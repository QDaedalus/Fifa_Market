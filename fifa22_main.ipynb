{
 "cells": [
  {
   "cell_type": "code",
   "execution_count": 3,
   "metadata": {},
   "outputs": [],
   "source": [
    "from bs4 import BeautifulSoup\n",
    "from urllib.request import urlopen\n",
    "import urllib\n",
    "import smtplib\n",
    "import datetime\n",
    "url = \"https://www.futwiz.com/en/fifa22/player/gabriel-jesus/17894\"\n",
    "hdr = {'User-Agent': 'Mozilla/5.0'}\n",
    "\n",
    "\n",
    "def read_txt(file_path):\n",
    "    with open(file_path,\"r\") as f:\n",
    "        urls = f.read().splitlines()\n",
    "    return urls\n",
    "\n",
    "\n",
    "def connect_to_web(url, hdr):\n",
    "    req = urllib.request.Request(url,headers=hdr)\n",
    "    page = urlopen(req)\n",
    "    soup = BeautifulSoup(page)\n",
    "    return soup\n",
    "\n",
    "def parse_data(soup):\n",
    "    data={}\n",
    "    liste=[]\n",
    "    find_name = soup.find_all(\"div\", attrs={\"style\": \"display:block;\"})\n",
    "    find_price = soup.find_all(\"div\", attrs={\"class\": \"playerprofile-price text-center\"})\n",
    "    find_version = soup.find(\"div\", attrs={\"style\": \"display:block;font-size:14px;\"})\n",
    "    price = find_price[0].string\n",
    "    price = price.strip(\"\\n\")\n",
    "    name = find_name[0].string\n",
    "    version = find_version.text\n",
    "    version = version.split('|')[0].split(\"22\")[1]\n",
    "    data[name+\" \"+str(version)]=price\n",
    "    return data\n",
    "def mail_sender(subject,mail_body):\n",
    "    gmail_user = 'bucanalbayrak@gmail.com'\n",
    "    gmail_password = 'zayusxenldawrroq'\n",
    "\n",
    "    sent_from = 'bucanalbayrak@gmail.com'\n",
    "    to = ['brkcanalbayrak@gmail.com']\n",
    "\n",
    "\n",
    "    message = 'Subject: {}\\n\\n{}'.format(subject, mail_body)\n",
    "    try:\n",
    "        server = smtplib.SMTP_SSL('smtp.gmail.com', 465)\n",
    "        server.ehlo()\n",
    "        server.login(gmail_user, gmail_password)\n",
    "        server.sendmail(sent_from, to, message)\n",
    "        server.close()\n",
    "\n",
    "        print ('Email sent!')\n",
    "    except:\n",
    "        print ('Something went wrong. Mail could not be sent.')\n",
    "def list_to_mail_body(mail_lines):\n",
    "    mail_body=\"\"\n",
    "    mail_body = '\\n'.join([str(elem) for elem in mail_lines])\n",
    "    return mail_body\n",
    "# parse_data(connect_to_web(url,hdr))\n"
   ]
  },
  {
   "cell_type": "code",
   "execution_count": null,
   "metadata": {},
   "outputs": [],
   "source": [
    "urls = read_txt('players_link.txt')\n",
    "mail_lines = []\n",
    "today = datetime.datetime.now()\n",
    "run_date = today.strftime(\"%m_%d_%Y_%H_%M\")\n",
    "run_date\n",
    "subject = str(run_date) + \"FIFA 22 MARKET REPORT\"\n",
    "for url in urls:\n",
    "    mail_lines.append(parse_data(connect_to_web(url,hdr)))\n",
    "    print(parse_data(connect_to_web(url,hdr)))\n",
    "body = list_to_mail_body(mail_lines)\n",
    "mail_sender(subject, body)"
   ]
  },
  {
   "cell_type": "code",
   "execution_count": 13,
   "metadata": {},
   "outputs": [
    {
     "data": {
      "text/plain": [
       "'03_06_2022_13_04'"
      ]
     },
     "execution_count": 13,
     "metadata": {},
     "output_type": "execute_result"
    }
   ],
   "source": [
    "\n"
   ]
  }
 ],
 "metadata": {
  "interpreter": {
   "hash": "ba25bdd61d2e401e6008389a0f5a2222b7b89e1e7369f7ca2d976dfc48d6a435"
  },
  "kernelspec": {
   "display_name": "Python 3.7.8 64-bit",
   "language": "python",
   "name": "python3"
  },
  "language_info": {
   "codemirror_mode": {
    "name": "ipython",
    "version": 3
   },
   "file_extension": ".py",
   "mimetype": "text/x-python",
   "name": "python",
   "nbconvert_exporter": "python",
   "pygments_lexer": "ipython3",
   "version": "3.7.8"
  },
  "orig_nbformat": 4
 },
 "nbformat": 4,
 "nbformat_minor": 2
}
